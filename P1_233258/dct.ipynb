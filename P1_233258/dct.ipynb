{
 "cells": [
  {
   "cell_type": "code",
   "execution_count": 3,
   "metadata": {},
   "outputs": [
    {
     "name": "stdout",
     "output_type": "stream",
     "text": [
      "[ 16.         -10.00416219  -2.82842712  -1.97907526]\n",
      "[-1.  2.  3.  4.]\n"
     ]
    }
   ],
   "source": [
    "# Impportem  de la llibreria scipy, la fft (Fast Fourier Transform) que té un mètode per a fer la dct. \n",
    "from scipy import fft\n",
    "  \n",
    "# Using scipy.fft.dct() method\n",
    "gfg = fft.dct([-1,2,3,4])\n",
    "  \n",
    "print(gfg)\n",
    "\n",
    "#veiem que a més és invertible:\n",
    "igfg = fft.idct(gfg)\n",
    "print(igfg)"
   ]
  },
  {
   "cell_type": "code",
   "execution_count": null,
   "metadata": {},
   "outputs": [],
   "source": []
  }
 ],
 "metadata": {
  "kernelspec": {
   "display_name": "Python 3",
   "language": "python",
   "name": "python3"
  },
  "language_info": {
   "codemirror_mode": {
    "name": "ipython",
    "version": 3
   },
   "file_extension": ".py",
   "mimetype": "text/x-python",
   "name": "python",
   "nbconvert_exporter": "python",
   "pygments_lexer": "ipython3",
   "version": "3.7.6"
  }
 },
 "nbformat": 4,
 "nbformat_minor": 4
}
