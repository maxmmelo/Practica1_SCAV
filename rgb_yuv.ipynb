{
 "cells": [
  {
   "cell_type": "code",
   "execution_count": 22,
   "metadata": {},
   "outputs": [],
   "source": [
    "import numpy as np\n",
    "def rgb2yuv(R, G, B):\n",
    "    \"\"\"\n",
    "    https://es.wikipedia.org/wiki/YUV\n",
    "    s'ha de tenir en compte què:\n",
    "    Se asume que R, G y B están en el rango 0 a 1, con 0 representando la intensidad mínima y 1 la máxima. \n",
    "    Y está en el rango 0 a 1, U está en el rango -0,436 a 0,436 y V está en el rango -0,615 a 0,615.\n",
    "    \"\"\"\n",
    "    Y = np.round(0.299*R + 0.587*G + 0.114*B)\n",
    "    U = np.round(0.493*(B - Y))\n",
    "    V = np.round(0.878*(R - Y))\n",
    "    return Y,U,V\n",
    "\n",
    "def yuv2rgb(Y, U, V):\n",
    "    \"\"\"\n",
    "    https://es.wikipedia.org/wiki/YUV\n",
    "    S'ha de tenir en compte què:\n",
    "    Se asume que R, G y B están en el rango 0 a 1, con 0 representando la intensidad mínima y 1 la máxima. \n",
    "    Y está en el rango 0 a 1, U está en el rango -0,436 a 0,436 y V está en el rango -0,615 a 0,615.\n",
    "    \"\"\"\n",
    "    R = np.round(Y + 1.14*V)\n",
    "    G = np.round(Y - 0.396*U - 0.581*V)\n",
    "    B = np.round(Y + 2.029*U)\n",
    "\n",
    "    return R,G,B\n",
    "\n"
   ]
  },
  {
   "cell_type": "code",
   "execution_count": 23,
   "metadata": {},
   "outputs": [
    {
     "data": {
      "text/plain": [
       "(2.0, 4.0, 3.0)"
      ]
     },
     "execution_count": 23,
     "metadata": {},
     "output_type": "execute_result"
    }
   ],
   "source": [
    "Y, U, V = rgb2yuv(2,3,4)\n",
    "R, G, B = yuv2rgb(Y, U, V)\n",
    "R, G, B"
   ]
  },
  {
   "cell_type": "code",
   "execution_count": null,
   "metadata": {},
   "outputs": [],
   "source": []
  }
 ],
 "metadata": {
  "kernelspec": {
   "display_name": "Python 3",
   "language": "python",
   "name": "python3"
  },
  "language_info": {
   "codemirror_mode": {
    "name": "ipython",
    "version": 3
   },
   "file_extension": ".py",
   "mimetype": "text/x-python",
   "name": "python",
   "nbconvert_exporter": "python",
   "pygments_lexer": "ipython3",
   "version": "3.7.6"
  }
 },
 "nbformat": 4,
 "nbformat_minor": 4
}
