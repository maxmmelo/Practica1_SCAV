{
 "cells": [
  {
   "cell_type": "code",
   "execution_count": 6,
   "metadata": {},
   "outputs": [],
   "source": [
    "# inspirat totalment en https://www.techiedelight.com/run-length-encoding-rle-data-compression-algorithm/\n",
    "def encode(s):\n",
    " \n",
    "    encoding = \"\" # creem un vector de caràcters\n",
    " \n",
    "    i = 0\n",
    "    while i < len(s):\n",
    "        # iterem al llarg de la paraula\n",
    "        count = 1\n",
    " \n",
    "        while i + 1 < len(s) and s[i] == s[i + 1]:\n",
    "            #comrpovem que sigui la mateixa letra\n",
    "            count = count + 1\n",
    "            i = i + 1\n",
    " \n",
    "        # guardem el caràcter i el nombre de vegades \n",
    "        encoding += str(count) + s[i]\n",
    "        i = i + 1\n",
    " \n",
    "    return encoding"
   ]
  },
  {
   "cell_type": "code",
   "execution_count": 10,
   "metadata": {},
   "outputs": [
    {
     "data": {
      "text/plain": [
       "'1h7o1l3a1t1u1r10u1t'"
      ]
     },
     "execution_count": 10,
     "metadata": {},
     "output_type": "execute_result"
    }
   ],
   "source": [
    "s = 'hooooooolaaaturuuuuuuuuuut'\n",
    "encode(s)"
   ]
  },
  {
   "cell_type": "code",
   "execution_count": null,
   "metadata": {},
   "outputs": [],
   "source": []
  }
 ],
 "metadata": {
  "kernelspec": {
   "display_name": "Python 3",
   "language": "python",
   "name": "python3"
  },
  "language_info": {
   "codemirror_mode": {
    "name": "ipython",
    "version": 3
   },
   "file_extension": ".py",
   "mimetype": "text/x-python",
   "name": "python",
   "nbconvert_exporter": "python",
   "pygments_lexer": "ipython3",
   "version": "3.7.6"
  }
 },
 "nbformat": 4,
 "nbformat_minor": 4
}
